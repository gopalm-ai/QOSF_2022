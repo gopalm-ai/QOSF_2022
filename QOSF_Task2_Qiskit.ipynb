{
  "nbformat": 4,
  "nbformat_minor": 0,
  "metadata": {
    "kernelspec": {
      "display_name": "Python 3",
      "language": "python",
      "name": "python3"
    },
    "language_info": {
      "codemirror_mode": {
        "name": "ipython",
        "version": 3
      },
      "file_extension": ".py",
      "mimetype": "text/x-python",
      "name": "python",
      "nbconvert_exporter": "python",
      "pygments_lexer": "ipython3",
      "version": "3.7.4"
    },
    "colab": {
      "name": "QOSF_Task2_Qiskit.ipynb",
      "provenance": [],
      "collapsed_sections": [],
      "include_colab_link": true
    }
  },
  "cells": [
    {
      "cell_type": "markdown",
      "metadata": {
        "id": "view-in-github",
        "colab_type": "text"
      },
      "source": [
        "<a href=\"https://colab.research.google.com/github/gopalm-ai/QOSF_2022/blob/master/QOSF_Task2_Qiskit.ipynb\" target=\"_parent\"><img src=\"https://colab.research.google.com/assets/colab-badge.svg\" alt=\"Open In Colab\"/></a>"
      ]
    },
    {
      "cell_type": "markdown",
      "source": [
        "# QOSF Task 2"
      ],
      "metadata": {
        "id": "dus2PUUXNqYe"
      }
    },
    {
      "cell_type": "markdown",
      "source": [
        "1.Encode the following files in a quantum circuit - mock_train_set.csv and mock_test_set.csv - in at least two different ways (these could be basis, angle, amplitude, kernel or random encoding).\n",
        "\n",
        "2.Design a variational quantum circuit for each of the encodings, uses the column 4 as the target, this is a binary class 0 and 1.\n",
        "\n",
        "3.You must use the data from column0 to column3 for your proposed classifier.\n",
        "\n",
        "4.Consider the ansatz you are going to design as a layer and find out how many layers are necessary to reach the best performance."
      ],
      "metadata": {
        "id": "ryrN4GXqNtoO"
      }
    },
    {
      "cell_type": "markdown",
      "source": [
        "## Install required libraries and dependencies:"
      ],
      "metadata": {
        "id": "CgmkdzzzNmSc"
      }
    },
    {
      "cell_type": "code",
      "source": [
        "! pip3 install qiskit\n",
        "! pip3 install qiskit_machine_learning\n",
        "! pip3 install pandas\n",
        "! pip3 install numpy\n",
        "! pip3 install scipy"
      ],
      "metadata": {
        "colab": {
          "base_uri": "https://localhost:8080/"
        },
        "id": "VqdAtjicWV63",
        "outputId": "7e62640a-1e6d-449c-8ca4-27bbd0dcd06b"
      },
      "execution_count": 36,
      "outputs": [
        {
          "output_type": "stream",
          "name": "stdout",
          "text": [
            "Requirement already satisfied: qiskit in /usr/local/lib/python3.7/dist-packages (0.34.2)\n",
            "Requirement already satisfied: qiskit-aer==0.10.3 in /usr/local/lib/python3.7/dist-packages (from qiskit) (0.10.3)\n",
            "Requirement already satisfied: qiskit-ibmq-provider==0.18.3 in /usr/local/lib/python3.7/dist-packages (from qiskit) (0.18.3)\n",
            "Requirement already satisfied: qiskit-terra==0.19.2 in /usr/local/lib/python3.7/dist-packages (from qiskit) (0.19.2)\n",
            "Requirement already satisfied: qiskit-ignis==0.7.0 in /usr/local/lib/python3.7/dist-packages (from qiskit) (0.7.0)\n",
            "Requirement already satisfied: scipy>=1.0 in /usr/local/lib/python3.7/dist-packages (from qiskit-aer==0.10.3->qiskit) (1.7.3)\n",
            "Requirement already satisfied: numpy>=1.16.3 in /usr/local/lib/python3.7/dist-packages (from qiskit-aer==0.10.3->qiskit) (1.21.5)\n",
            "Requirement already satisfied: requests-ntlm>=1.1.0 in /usr/local/lib/python3.7/dist-packages (from qiskit-ibmq-provider==0.18.3->qiskit) (1.1.0)\n",
            "Requirement already satisfied: requests>=2.19 in /usr/local/lib/python3.7/dist-packages (from qiskit-ibmq-provider==0.18.3->qiskit) (2.23.0)\n",
            "Requirement already satisfied: urllib3>=1.21.1 in /usr/local/lib/python3.7/dist-packages (from qiskit-ibmq-provider==0.18.3->qiskit) (1.24.3)\n",
            "Requirement already satisfied: websocket-client>=1.0.1 in /usr/local/lib/python3.7/dist-packages (from qiskit-ibmq-provider==0.18.3->qiskit) (1.3.1)\n",
            "Requirement already satisfied: python-dateutil>=2.8.0 in /usr/local/lib/python3.7/dist-packages (from qiskit-ibmq-provider==0.18.3->qiskit) (2.8.2)\n",
            "Requirement already satisfied: setuptools>=40.1.0 in /usr/local/lib/python3.7/dist-packages (from qiskit-ignis==0.7.0->qiskit) (57.4.0)\n",
            "Requirement already satisfied: retworkx>=0.8.0 in /usr/local/lib/python3.7/dist-packages (from qiskit-ignis==0.7.0->qiskit) (0.11.0)\n",
            "Requirement already satisfied: python-constraint>=1.4 in /usr/local/lib/python3.7/dist-packages (from qiskit-terra==0.19.2->qiskit) (1.4.0)\n",
            "Requirement already satisfied: psutil>=5 in /usr/local/lib/python3.7/dist-packages (from qiskit-terra==0.19.2->qiskit) (5.4.8)\n",
            "Requirement already satisfied: stevedore>=3.0.0 in /usr/local/lib/python3.7/dist-packages (from qiskit-terra==0.19.2->qiskit) (3.5.0)\n",
            "Requirement already satisfied: dill>=0.3 in /usr/local/lib/python3.7/dist-packages (from qiskit-terra==0.19.2->qiskit) (0.3.4)\n",
            "Requirement already satisfied: sympy>=1.3 in /usr/local/lib/python3.7/dist-packages (from qiskit-terra==0.19.2->qiskit) (1.7.1)\n",
            "Requirement already satisfied: symengine>=0.8 in /usr/local/lib/python3.7/dist-packages (from qiskit-terra==0.19.2->qiskit) (0.9.0)\n",
            "Requirement already satisfied: ply>=3.10 in /usr/local/lib/python3.7/dist-packages (from qiskit-terra==0.19.2->qiskit) (3.11)\n",
            "Requirement already satisfied: tweedledum<2.0,>=1.1 in /usr/local/lib/python3.7/dist-packages (from qiskit-terra==0.19.2->qiskit) (1.1.1)\n",
            "Requirement already satisfied: six>=1.5 in /usr/local/lib/python3.7/dist-packages (from python-dateutil>=2.8.0->qiskit-ibmq-provider==0.18.3->qiskit) (1.15.0)\n",
            "Requirement already satisfied: certifi>=2017.4.17 in /usr/local/lib/python3.7/dist-packages (from requests>=2.19->qiskit-ibmq-provider==0.18.3->qiskit) (2021.10.8)\n",
            "Requirement already satisfied: idna<3,>=2.5 in /usr/local/lib/python3.7/dist-packages (from requests>=2.19->qiskit-ibmq-provider==0.18.3->qiskit) (2.10)\n",
            "Requirement already satisfied: chardet<4,>=3.0.2 in /usr/local/lib/python3.7/dist-packages (from requests>=2.19->qiskit-ibmq-provider==0.18.3->qiskit) (3.0.4)\n",
            "Requirement already satisfied: cryptography>=1.3 in /usr/local/lib/python3.7/dist-packages (from requests-ntlm>=1.1.0->qiskit-ibmq-provider==0.18.3->qiskit) (36.0.1)\n",
            "Requirement already satisfied: ntlm-auth>=1.0.2 in /usr/local/lib/python3.7/dist-packages (from requests-ntlm>=1.1.0->qiskit-ibmq-provider==0.18.3->qiskit) (1.5.0)\n",
            "Requirement already satisfied: cffi>=1.12 in /usr/local/lib/python3.7/dist-packages (from cryptography>=1.3->requests-ntlm>=1.1.0->qiskit-ibmq-provider==0.18.3->qiskit) (1.15.0)\n",
            "Requirement already satisfied: pycparser in /usr/local/lib/python3.7/dist-packages (from cffi>=1.12->cryptography>=1.3->requests-ntlm>=1.1.0->qiskit-ibmq-provider==0.18.3->qiskit) (2.21)\n",
            "Requirement already satisfied: pbr!=2.1.0,>=2.0.0 in /usr/local/lib/python3.7/dist-packages (from stevedore>=3.0.0->qiskit-terra==0.19.2->qiskit) (5.8.1)\n",
            "Requirement already satisfied: importlib-metadata>=1.7.0 in /usr/local/lib/python3.7/dist-packages (from stevedore>=3.0.0->qiskit-terra==0.19.2->qiskit) (4.11.1)\n",
            "Requirement already satisfied: typing-extensions>=3.6.4 in /usr/local/lib/python3.7/dist-packages (from importlib-metadata>=1.7.0->stevedore>=3.0.0->qiskit-terra==0.19.2->qiskit) (3.10.0.2)\n",
            "Requirement already satisfied: zipp>=0.5 in /usr/local/lib/python3.7/dist-packages (from importlib-metadata>=1.7.0->stevedore>=3.0.0->qiskit-terra==0.19.2->qiskit) (3.7.0)\n",
            "Requirement already satisfied: mpmath>=0.19 in /usr/local/lib/python3.7/dist-packages (from sympy>=1.3->qiskit-terra==0.19.2->qiskit) (1.2.1)\n",
            "Requirement already satisfied: qiskit_machine_learning in /usr/local/lib/python3.7/dist-packages (0.3.1)\n",
            "Requirement already satisfied: setuptools>=40.1.0 in /usr/local/lib/python3.7/dist-packages (from qiskit_machine_learning) (57.4.0)\n",
            "Requirement already satisfied: numpy>=1.17 in /usr/local/lib/python3.7/dist-packages (from qiskit_machine_learning) (1.21.5)\n",
            "Requirement already satisfied: scipy>=1.4 in /usr/local/lib/python3.7/dist-packages (from qiskit_machine_learning) (1.7.3)\n",
            "Requirement already satisfied: psutil>=5 in /usr/local/lib/python3.7/dist-packages (from qiskit_machine_learning) (5.4.8)\n",
            "Requirement already satisfied: fastdtw in /usr/local/lib/python3.7/dist-packages (from qiskit_machine_learning) (0.3.4)\n",
            "Requirement already satisfied: scikit-learn>=0.20.0 in /usr/local/lib/python3.7/dist-packages (from qiskit_machine_learning) (1.0.2)\n",
            "Requirement already satisfied: dill>=0.3.4 in /usr/local/lib/python3.7/dist-packages (from qiskit_machine_learning) (0.3.4)\n",
            "Requirement already satisfied: qiskit-terra>=0.19.1 in /usr/local/lib/python3.7/dist-packages (from qiskit_machine_learning) (0.19.2)\n",
            "Requirement already satisfied: sympy>=1.3 in /usr/local/lib/python3.7/dist-packages (from qiskit-terra>=0.19.1->qiskit_machine_learning) (1.7.1)\n",
            "Requirement already satisfied: ply>=3.10 in /usr/local/lib/python3.7/dist-packages (from qiskit-terra>=0.19.1->qiskit_machine_learning) (3.11)\n",
            "Requirement already satisfied: stevedore>=3.0.0 in /usr/local/lib/python3.7/dist-packages (from qiskit-terra>=0.19.1->qiskit_machine_learning) (3.5.0)\n",
            "Requirement already satisfied: tweedledum<2.0,>=1.1 in /usr/local/lib/python3.7/dist-packages (from qiskit-terra>=0.19.1->qiskit_machine_learning) (1.1.1)\n",
            "Requirement already satisfied: symengine>=0.8 in /usr/local/lib/python3.7/dist-packages (from qiskit-terra>=0.19.1->qiskit_machine_learning) (0.9.0)\n",
            "Requirement already satisfied: python-dateutil>=2.8.0 in /usr/local/lib/python3.7/dist-packages (from qiskit-terra>=0.19.1->qiskit_machine_learning) (2.8.2)\n",
            "Requirement already satisfied: python-constraint>=1.4 in /usr/local/lib/python3.7/dist-packages (from qiskit-terra>=0.19.1->qiskit_machine_learning) (1.4.0)\n",
            "Requirement already satisfied: retworkx>=0.10.1 in /usr/local/lib/python3.7/dist-packages (from qiskit-terra>=0.19.1->qiskit_machine_learning) (0.11.0)\n",
            "Requirement already satisfied: six>=1.5 in /usr/local/lib/python3.7/dist-packages (from python-dateutil>=2.8.0->qiskit-terra>=0.19.1->qiskit_machine_learning) (1.15.0)\n",
            "Requirement already satisfied: threadpoolctl>=2.0.0 in /usr/local/lib/python3.7/dist-packages (from scikit-learn>=0.20.0->qiskit_machine_learning) (3.1.0)\n",
            "Requirement already satisfied: joblib>=0.11 in /usr/local/lib/python3.7/dist-packages (from scikit-learn>=0.20.0->qiskit_machine_learning) (1.1.0)\n",
            "Requirement already satisfied: importlib-metadata>=1.7.0 in /usr/local/lib/python3.7/dist-packages (from stevedore>=3.0.0->qiskit-terra>=0.19.1->qiskit_machine_learning) (4.11.1)\n",
            "Requirement already satisfied: pbr!=2.1.0,>=2.0.0 in /usr/local/lib/python3.7/dist-packages (from stevedore>=3.0.0->qiskit-terra>=0.19.1->qiskit_machine_learning) (5.8.1)\n",
            "Requirement already satisfied: zipp>=0.5 in /usr/local/lib/python3.7/dist-packages (from importlib-metadata>=1.7.0->stevedore>=3.0.0->qiskit-terra>=0.19.1->qiskit_machine_learning) (3.7.0)\n",
            "Requirement already satisfied: typing-extensions>=3.6.4 in /usr/local/lib/python3.7/dist-packages (from importlib-metadata>=1.7.0->stevedore>=3.0.0->qiskit-terra>=0.19.1->qiskit_machine_learning) (3.10.0.2)\n",
            "Requirement already satisfied: mpmath>=0.19 in /usr/local/lib/python3.7/dist-packages (from sympy>=1.3->qiskit-terra>=0.19.1->qiskit_machine_learning) (1.2.1)\n",
            "Requirement already satisfied: pandas in /usr/local/lib/python3.7/dist-packages (1.3.5)\n",
            "Requirement already satisfied: numpy>=1.17.3 in /usr/local/lib/python3.7/dist-packages (from pandas) (1.21.5)\n",
            "Requirement already satisfied: python-dateutil>=2.7.3 in /usr/local/lib/python3.7/dist-packages (from pandas) (2.8.2)\n",
            "Requirement already satisfied: pytz>=2017.3 in /usr/local/lib/python3.7/dist-packages (from pandas) (2018.9)\n",
            "Requirement already satisfied: six>=1.5 in /usr/local/lib/python3.7/dist-packages (from python-dateutil>=2.7.3->pandas) (1.15.0)\n",
            "Requirement already satisfied: numpy in /usr/local/lib/python3.7/dist-packages (1.21.5)\n",
            "Requirement already satisfied: scipy in /usr/local/lib/python3.7/dist-packages (1.7.3)\n",
            "Requirement already satisfied: numpy<1.23.0,>=1.16.5 in /usr/local/lib/python3.7/dist-packages (from scipy) (1.21.5)\n"
          ]
        }
      ]
    },
    {
      "cell_type": "markdown",
      "source": [
        ""
      ],
      "metadata": {
        "id": "d89Np6sHNNmK"
      }
    },
    {
      "cell_type": "markdown",
      "source": [
        "## Import required libraries and dependencies"
      ],
      "metadata": {
        "id": "XSS1MD_dZDj6"
      }
    },
    {
      "cell_type": "code",
      "source": [
        "# Import PennyLane, wrapped NumPy version provided by PennyLane, and an optimizer\n",
        "import numpy as np\n",
        "import matplotlib.pyplot as plt\n",
        "import pandas as pd\n",
        "from qiskit import *\n",
        "from qiskit.utils import *\n",
        "from qiskit.opflow import *\n",
        "from qiskit.circuit import *\n",
        "from qiskit.circuit.library import *\n",
        "from qiskit.algorithms.optimizers import *\n",
        "from qiskit_machine_learning.neural_networks import TwoLayerQNN, CircuitQNN\n",
        "from qiskit_machine_learning.algorithms.classifiers import NeuralNetworkClassifier, VQC\n",
        "from qiskit_machine_learning.algorithms.regressors import NeuralNetworkRegressor, VQR\n",
        "from qiskit_machine_learning.exceptions import QiskitMachineLearningError\n",
        "from typing import Union\n",
        "import time as t\n",
        "from math import pi"
      ],
      "metadata": {
        "id": "VmfJV8VYWX7L"
      },
      "execution_count": 37,
      "outputs": []
    },
    {
      "cell_type": "code",
      "source": [
        "pwd"
      ],
      "metadata": {
        "colab": {
          "base_uri": "https://localhost:8080/",
          "height": 35
        },
        "id": "D0Pb0Z4HvusM",
        "outputId": "cd79c942-f765-4105-d602-1bd7a3cc20ac"
      },
      "execution_count": 38,
      "outputs": [
        {
          "output_type": "execute_result",
          "data": {
            "application/vnd.google.colaboratory.intrinsic+json": {
              "type": "string"
            },
            "text/plain": [
              "'/content/drive/MyDrive/QOSF_2022'"
            ]
          },
          "metadata": {},
          "execution_count": 38
        }
      ]
    },
    {
      "cell_type": "code",
      "source": [
        "from google.colab import drive\n",
        "drive.mount(\"/content/drive\")"
      ],
      "metadata": {
        "colab": {
          "base_uri": "https://localhost:8080/"
        },
        "id": "xgfOa8Rl3YU3",
        "outputId": "2aef42da-58a5-4f6f-b2f8-c2edfaeffa2a"
      },
      "execution_count": 39,
      "outputs": [
        {
          "output_type": "stream",
          "name": "stdout",
          "text": [
            "Drive already mounted at /content/drive; to attempt to forcibly remount, call drive.mount(\"/content/drive\", force_remount=True).\n"
          ]
        }
      ]
    },
    {
      "cell_type": "code",
      "source": [
        "cd drive/MyDrive/QOSF_2022/"
      ],
      "metadata": {
        "colab": {
          "base_uri": "https://localhost:8080/"
        },
        "id": "O3naCZwV-__1",
        "outputId": "744ee618-d2e0-4521-b878-0b7dfa7b93d8"
      },
      "execution_count": 40,
      "outputs": [
        {
          "output_type": "stream",
          "name": "stdout",
          "text": [
            "[Errno 2] No such file or directory: 'drive/MyDrive/QOSF_2022/'\n",
            "/content/drive/MyDrive/QOSF_2022\n"
          ]
        }
      ]
    },
    {
      "cell_type": "markdown",
      "source": [
        "## Load training dataset \"mock_train_set.csv\" and convert to pandas dataframe "
      ],
      "metadata": {
        "id": "ijJqdQFCPRGE"
      }
    },
    {
      "cell_type": "code",
      "source": [
        "train_data= pd.read_csv(\"mock_train_set.csv\", delimiter=',')\n",
        "train_data"
      ],
      "metadata": {
        "id": "W8rlLD9OqzmH",
        "colab": {
          "base_uri": "https://localhost:8080/",
          "height": 419
        },
        "outputId": "50ff9966-c48b-4610-c316-cee0c7d8db3e"
      },
      "execution_count": 41,
      "outputs": [
        {
          "output_type": "execute_result",
          "data": {
            "text/html": [
              "\n",
              "  <div id=\"df-42a88e18-e564-4cf9-8321-431ae08870a0\">\n",
              "    <div class=\"colab-df-container\">\n",
              "      <div>\n",
              "<style scoped>\n",
              "    .dataframe tbody tr th:only-of-type {\n",
              "        vertical-align: middle;\n",
              "    }\n",
              "\n",
              "    .dataframe tbody tr th {\n",
              "        vertical-align: top;\n",
              "    }\n",
              "\n",
              "    .dataframe thead th {\n",
              "        text-align: right;\n",
              "    }\n",
              "</style>\n",
              "<table border=\"1\" class=\"dataframe\">\n",
              "  <thead>\n",
              "    <tr style=\"text-align: right;\">\n",
              "      <th></th>\n",
              "      <th>0</th>\n",
              "      <th>1</th>\n",
              "      <th>2</th>\n",
              "      <th>3</th>\n",
              "      <th>4</th>\n",
              "    </tr>\n",
              "  </thead>\n",
              "  <tbody>\n",
              "    <tr>\n",
              "      <th>0</th>\n",
              "      <td>2789.26</td>\n",
              "      <td>1000.0</td>\n",
              "      <td>10.0</td>\n",
              "      <td>20.0</td>\n",
              "      <td>0.0</td>\n",
              "    </tr>\n",
              "    <tr>\n",
              "      <th>1</th>\n",
              "      <td>4040.01</td>\n",
              "      <td>1000000.0</td>\n",
              "      <td>1.0</td>\n",
              "      <td>1.0</td>\n",
              "      <td>1.0</td>\n",
              "    </tr>\n",
              "    <tr>\n",
              "      <th>2</th>\n",
              "      <td>2931.20</td>\n",
              "      <td>10000.0</td>\n",
              "      <td>10000.0</td>\n",
              "      <td>40.0</td>\n",
              "      <td>1.0</td>\n",
              "    </tr>\n",
              "    <tr>\n",
              "      <th>3</th>\n",
              "      <td>3896.54</td>\n",
              "      <td>10000.0</td>\n",
              "      <td>100000.0</td>\n",
              "      <td>30.0</td>\n",
              "      <td>1.0</td>\n",
              "    </tr>\n",
              "    <tr>\n",
              "      <th>4</th>\n",
              "      <td>982.06</td>\n",
              "      <td>100.0</td>\n",
              "      <td>1000.0</td>\n",
              "      <td>75.0</td>\n",
              "      <td>0.0</td>\n",
              "    </tr>\n",
              "    <tr>\n",
              "      <th>...</th>\n",
              "      <td>...</td>\n",
              "      <td>...</td>\n",
              "      <td>...</td>\n",
              "      <td>...</td>\n",
              "      <td>...</td>\n",
              "    </tr>\n",
              "    <tr>\n",
              "      <th>295</th>\n",
              "      <td>1464.52</td>\n",
              "      <td>1000000.0</td>\n",
              "      <td>10000.0</td>\n",
              "      <td>45.0</td>\n",
              "      <td>1.0</td>\n",
              "    </tr>\n",
              "    <tr>\n",
              "      <th>296</th>\n",
              "      <td>3493.66</td>\n",
              "      <td>1000000.0</td>\n",
              "      <td>100000.0</td>\n",
              "      <td>85.0</td>\n",
              "      <td>1.0</td>\n",
              "    </tr>\n",
              "    <tr>\n",
              "      <th>297</th>\n",
              "      <td>4182.81</td>\n",
              "      <td>1.0</td>\n",
              "      <td>1.0</td>\n",
              "      <td>65.0</td>\n",
              "      <td>0.0</td>\n",
              "    </tr>\n",
              "    <tr>\n",
              "      <th>298</th>\n",
              "      <td>3113.75</td>\n",
              "      <td>10000.0</td>\n",
              "      <td>100.0</td>\n",
              "      <td>1.0</td>\n",
              "      <td>1.0</td>\n",
              "    </tr>\n",
              "    <tr>\n",
              "      <th>299</th>\n",
              "      <td>4567.57</td>\n",
              "      <td>10000.0</td>\n",
              "      <td>100000.0</td>\n",
              "      <td>90.0</td>\n",
              "      <td>1.0</td>\n",
              "    </tr>\n",
              "  </tbody>\n",
              "</table>\n",
              "<p>300 rows × 5 columns</p>\n",
              "</div>\n",
              "      <button class=\"colab-df-convert\" onclick=\"convertToInteractive('df-42a88e18-e564-4cf9-8321-431ae08870a0')\"\n",
              "              title=\"Convert this dataframe to an interactive table.\"\n",
              "              style=\"display:none;\">\n",
              "        \n",
              "  <svg xmlns=\"http://www.w3.org/2000/svg\" height=\"24px\"viewBox=\"0 0 24 24\"\n",
              "       width=\"24px\">\n",
              "    <path d=\"M0 0h24v24H0V0z\" fill=\"none\"/>\n",
              "    <path d=\"M18.56 5.44l.94 2.06.94-2.06 2.06-.94-2.06-.94-.94-2.06-.94 2.06-2.06.94zm-11 1L8.5 8.5l.94-2.06 2.06-.94-2.06-.94L8.5 2.5l-.94 2.06-2.06.94zm10 10l.94 2.06.94-2.06 2.06-.94-2.06-.94-.94-2.06-.94 2.06-2.06.94z\"/><path d=\"M17.41 7.96l-1.37-1.37c-.4-.4-.92-.59-1.43-.59-.52 0-1.04.2-1.43.59L10.3 9.45l-7.72 7.72c-.78.78-.78 2.05 0 2.83L4 21.41c.39.39.9.59 1.41.59.51 0 1.02-.2 1.41-.59l7.78-7.78 2.81-2.81c.8-.78.8-2.07 0-2.86zM5.41 20L4 18.59l7.72-7.72 1.47 1.35L5.41 20z\"/>\n",
              "  </svg>\n",
              "      </button>\n",
              "      \n",
              "  <style>\n",
              "    .colab-df-container {\n",
              "      display:flex;\n",
              "      flex-wrap:wrap;\n",
              "      gap: 12px;\n",
              "    }\n",
              "\n",
              "    .colab-df-convert {\n",
              "      background-color: #E8F0FE;\n",
              "      border: none;\n",
              "      border-radius: 50%;\n",
              "      cursor: pointer;\n",
              "      display: none;\n",
              "      fill: #1967D2;\n",
              "      height: 32px;\n",
              "      padding: 0 0 0 0;\n",
              "      width: 32px;\n",
              "    }\n",
              "\n",
              "    .colab-df-convert:hover {\n",
              "      background-color: #E2EBFA;\n",
              "      box-shadow: 0px 1px 2px rgba(60, 64, 67, 0.3), 0px 1px 3px 1px rgba(60, 64, 67, 0.15);\n",
              "      fill: #174EA6;\n",
              "    }\n",
              "\n",
              "    [theme=dark] .colab-df-convert {\n",
              "      background-color: #3B4455;\n",
              "      fill: #D2E3FC;\n",
              "    }\n",
              "\n",
              "    [theme=dark] .colab-df-convert:hover {\n",
              "      background-color: #434B5C;\n",
              "      box-shadow: 0px 1px 3px 1px rgba(0, 0, 0, 0.15);\n",
              "      filter: drop-shadow(0px 1px 2px rgba(0, 0, 0, 0.3));\n",
              "      fill: #FFFFFF;\n",
              "    }\n",
              "  </style>\n",
              "\n",
              "      <script>\n",
              "        const buttonEl =\n",
              "          document.querySelector('#df-42a88e18-e564-4cf9-8321-431ae08870a0 button.colab-df-convert');\n",
              "        buttonEl.style.display =\n",
              "          google.colab.kernel.accessAllowed ? 'block' : 'none';\n",
              "\n",
              "        async function convertToInteractive(key) {\n",
              "          const element = document.querySelector('#df-42a88e18-e564-4cf9-8321-431ae08870a0');\n",
              "          const dataTable =\n",
              "            await google.colab.kernel.invokeFunction('convertToInteractive',\n",
              "                                                     [key], {});\n",
              "          if (!dataTable) return;\n",
              "\n",
              "          const docLinkHtml = 'Like what you see? Visit the ' +\n",
              "            '<a target=\"_blank\" href=https://colab.research.google.com/notebooks/data_table.ipynb>data table notebook</a>'\n",
              "            + ' to learn more about interactive tables.';\n",
              "          element.innerHTML = '';\n",
              "          dataTable['output_type'] = 'display_data';\n",
              "          await google.colab.output.renderOutput(dataTable, element);\n",
              "          const docLink = document.createElement('div');\n",
              "          docLink.innerHTML = docLinkHtml;\n",
              "          element.appendChild(docLink);\n",
              "        }\n",
              "      </script>\n",
              "    </div>\n",
              "  </div>\n",
              "  "
            ],
            "text/plain": [
              "           0          1         2     3    4\n",
              "0    2789.26     1000.0      10.0  20.0  0.0\n",
              "1    4040.01  1000000.0       1.0   1.0  1.0\n",
              "2    2931.20    10000.0   10000.0  40.0  1.0\n",
              "3    3896.54    10000.0  100000.0  30.0  1.0\n",
              "4     982.06      100.0    1000.0  75.0  0.0\n",
              "..       ...        ...       ...   ...  ...\n",
              "295  1464.52  1000000.0   10000.0  45.0  1.0\n",
              "296  3493.66  1000000.0  100000.0  85.0  1.0\n",
              "297  4182.81        1.0       1.0  65.0  0.0\n",
              "298  3113.75    10000.0     100.0   1.0  1.0\n",
              "299  4567.57    10000.0  100000.0  90.0  1.0\n",
              "\n",
              "[300 rows x 5 columns]"
            ]
          },
          "metadata": {},
          "execution_count": 41
        }
      ]
    },
    {
      "cell_type": "markdown",
      "source": [
        "## Load test dataset \"mock_test_set.csv\" and convert to pandas dataframe "
      ],
      "metadata": {
        "id": "UG9zk3XoPnvG"
      }
    },
    {
      "cell_type": "code",
      "source": [
        "test_data= pd.read_csv(\"mock_test_set.csv\", delimiter=',')\n",
        "test_data"
      ],
      "metadata": {
        "id": "cNkyQsOhqzqA",
        "colab": {
          "base_uri": "https://localhost:8080/",
          "height": 419
        },
        "outputId": "721e25b9-3b9c-49bc-80eb-d7301959241f"
      },
      "execution_count": 42,
      "outputs": [
        {
          "output_type": "execute_result",
          "data": {
            "text/html": [
              "\n",
              "  <div id=\"df-2f8fb335-1536-4770-beb1-7cd7e2a22935\">\n",
              "    <div class=\"colab-df-container\">\n",
              "      <div>\n",
              "<style scoped>\n",
              "    .dataframe tbody tr th:only-of-type {\n",
              "        vertical-align: middle;\n",
              "    }\n",
              "\n",
              "    .dataframe tbody tr th {\n",
              "        vertical-align: top;\n",
              "    }\n",
              "\n",
              "    .dataframe thead th {\n",
              "        text-align: right;\n",
              "    }\n",
              "</style>\n",
              "<table border=\"1\" class=\"dataframe\">\n",
              "  <thead>\n",
              "    <tr style=\"text-align: right;\">\n",
              "      <th></th>\n",
              "      <th>0</th>\n",
              "      <th>1</th>\n",
              "      <th>2</th>\n",
              "      <th>3</th>\n",
              "      <th>4</th>\n",
              "    </tr>\n",
              "  </thead>\n",
              "  <tbody>\n",
              "    <tr>\n",
              "      <th>0</th>\n",
              "      <td>2988.55</td>\n",
              "      <td>10000.0</td>\n",
              "      <td>10000.0</td>\n",
              "      <td>75.0</td>\n",
              "      <td>1.0</td>\n",
              "    </tr>\n",
              "    <tr>\n",
              "      <th>1</th>\n",
              "      <td>3413.80</td>\n",
              "      <td>1.0</td>\n",
              "      <td>100.0</td>\n",
              "      <td>90.0</td>\n",
              "      <td>0.0</td>\n",
              "    </tr>\n",
              "    <tr>\n",
              "      <th>2</th>\n",
              "      <td>3891.52</td>\n",
              "      <td>1.0</td>\n",
              "      <td>1.0</td>\n",
              "      <td>5.0</td>\n",
              "      <td>0.0</td>\n",
              "    </tr>\n",
              "    <tr>\n",
              "      <th>3</th>\n",
              "      <td>4514.99</td>\n",
              "      <td>10000.0</td>\n",
              "      <td>1000000.0</td>\n",
              "      <td>25.0</td>\n",
              "      <td>1.0</td>\n",
              "    </tr>\n",
              "    <tr>\n",
              "      <th>4</th>\n",
              "      <td>752.29</td>\n",
              "      <td>10.0</td>\n",
              "      <td>10.0</td>\n",
              "      <td>90.0</td>\n",
              "      <td>0.0</td>\n",
              "    </tr>\n",
              "    <tr>\n",
              "      <th>...</th>\n",
              "      <td>...</td>\n",
              "      <td>...</td>\n",
              "      <td>...</td>\n",
              "      <td>...</td>\n",
              "      <td>...</td>\n",
              "    </tr>\n",
              "    <tr>\n",
              "      <th>115</th>\n",
              "      <td>3155.94</td>\n",
              "      <td>10000.0</td>\n",
              "      <td>10000.0</td>\n",
              "      <td>35.0</td>\n",
              "      <td>1.0</td>\n",
              "    </tr>\n",
              "    <tr>\n",
              "      <th>116</th>\n",
              "      <td>2795.04</td>\n",
              "      <td>1.0</td>\n",
              "      <td>10.0</td>\n",
              "      <td>45.0</td>\n",
              "      <td>0.0</td>\n",
              "    </tr>\n",
              "    <tr>\n",
              "      <th>117</th>\n",
              "      <td>3702.48</td>\n",
              "      <td>1.0</td>\n",
              "      <td>1.0</td>\n",
              "      <td>20.0</td>\n",
              "      <td>0.0</td>\n",
              "    </tr>\n",
              "    <tr>\n",
              "      <th>118</th>\n",
              "      <td>2790.57</td>\n",
              "      <td>1.0</td>\n",
              "      <td>1.0</td>\n",
              "      <td>40.0</td>\n",
              "      <td>0.0</td>\n",
              "    </tr>\n",
              "    <tr>\n",
              "      <th>119</th>\n",
              "      <td>1848.21</td>\n",
              "      <td>100.0</td>\n",
              "      <td>100.0</td>\n",
              "      <td>90.0</td>\n",
              "      <td>0.0</td>\n",
              "    </tr>\n",
              "  </tbody>\n",
              "</table>\n",
              "<p>120 rows × 5 columns</p>\n",
              "</div>\n",
              "      <button class=\"colab-df-convert\" onclick=\"convertToInteractive('df-2f8fb335-1536-4770-beb1-7cd7e2a22935')\"\n",
              "              title=\"Convert this dataframe to an interactive table.\"\n",
              "              style=\"display:none;\">\n",
              "        \n",
              "  <svg xmlns=\"http://www.w3.org/2000/svg\" height=\"24px\"viewBox=\"0 0 24 24\"\n",
              "       width=\"24px\">\n",
              "    <path d=\"M0 0h24v24H0V0z\" fill=\"none\"/>\n",
              "    <path d=\"M18.56 5.44l.94 2.06.94-2.06 2.06-.94-2.06-.94-.94-2.06-.94 2.06-2.06.94zm-11 1L8.5 8.5l.94-2.06 2.06-.94-2.06-.94L8.5 2.5l-.94 2.06-2.06.94zm10 10l.94 2.06.94-2.06 2.06-.94-2.06-.94-.94-2.06-.94 2.06-2.06.94z\"/><path d=\"M17.41 7.96l-1.37-1.37c-.4-.4-.92-.59-1.43-.59-.52 0-1.04.2-1.43.59L10.3 9.45l-7.72 7.72c-.78.78-.78 2.05 0 2.83L4 21.41c.39.39.9.59 1.41.59.51 0 1.02-.2 1.41-.59l7.78-7.78 2.81-2.81c.8-.78.8-2.07 0-2.86zM5.41 20L4 18.59l7.72-7.72 1.47 1.35L5.41 20z\"/>\n",
              "  </svg>\n",
              "      </button>\n",
              "      \n",
              "  <style>\n",
              "    .colab-df-container {\n",
              "      display:flex;\n",
              "      flex-wrap:wrap;\n",
              "      gap: 12px;\n",
              "    }\n",
              "\n",
              "    .colab-df-convert {\n",
              "      background-color: #E8F0FE;\n",
              "      border: none;\n",
              "      border-radius: 50%;\n",
              "      cursor: pointer;\n",
              "      display: none;\n",
              "      fill: #1967D2;\n",
              "      height: 32px;\n",
              "      padding: 0 0 0 0;\n",
              "      width: 32px;\n",
              "    }\n",
              "\n",
              "    .colab-df-convert:hover {\n",
              "      background-color: #E2EBFA;\n",
              "      box-shadow: 0px 1px 2px rgba(60, 64, 67, 0.3), 0px 1px 3px 1px rgba(60, 64, 67, 0.15);\n",
              "      fill: #174EA6;\n",
              "    }\n",
              "\n",
              "    [theme=dark] .colab-df-convert {\n",
              "      background-color: #3B4455;\n",
              "      fill: #D2E3FC;\n",
              "    }\n",
              "\n",
              "    [theme=dark] .colab-df-convert:hover {\n",
              "      background-color: #434B5C;\n",
              "      box-shadow: 0px 1px 3px 1px rgba(0, 0, 0, 0.15);\n",
              "      filter: drop-shadow(0px 1px 2px rgba(0, 0, 0, 0.3));\n",
              "      fill: #FFFFFF;\n",
              "    }\n",
              "  </style>\n",
              "\n",
              "      <script>\n",
              "        const buttonEl =\n",
              "          document.querySelector('#df-2f8fb335-1536-4770-beb1-7cd7e2a22935 button.colab-df-convert');\n",
              "        buttonEl.style.display =\n",
              "          google.colab.kernel.accessAllowed ? 'block' : 'none';\n",
              "\n",
              "        async function convertToInteractive(key) {\n",
              "          const element = document.querySelector('#df-2f8fb335-1536-4770-beb1-7cd7e2a22935');\n",
              "          const dataTable =\n",
              "            await google.colab.kernel.invokeFunction('convertToInteractive',\n",
              "                                                     [key], {});\n",
              "          if (!dataTable) return;\n",
              "\n",
              "          const docLinkHtml = 'Like what you see? Visit the ' +\n",
              "            '<a target=\"_blank\" href=https://colab.research.google.com/notebooks/data_table.ipynb>data table notebook</a>'\n",
              "            + ' to learn more about interactive tables.';\n",
              "          element.innerHTML = '';\n",
              "          dataTable['output_type'] = 'display_data';\n",
              "          await google.colab.output.renderOutput(dataTable, element);\n",
              "          const docLink = document.createElement('div');\n",
              "          docLink.innerHTML = docLinkHtml;\n",
              "          element.appendChild(docLink);\n",
              "        }\n",
              "      </script>\n",
              "    </div>\n",
              "  </div>\n",
              "  "
            ],
            "text/plain": [
              "           0        1          2     3    4\n",
              "0    2988.55  10000.0    10000.0  75.0  1.0\n",
              "1    3413.80      1.0      100.0  90.0  0.0\n",
              "2    3891.52      1.0        1.0   5.0  0.0\n",
              "3    4514.99  10000.0  1000000.0  25.0  1.0\n",
              "4     752.29     10.0       10.0  90.0  0.0\n",
              "..       ...      ...        ...   ...  ...\n",
              "115  3155.94  10000.0    10000.0  35.0  1.0\n",
              "116  2795.04      1.0       10.0  45.0  0.0\n",
              "117  3702.48      1.0        1.0  20.0  0.0\n",
              "118  2790.57      1.0        1.0  40.0  0.0\n",
              "119  1848.21    100.0      100.0  90.0  0.0\n",
              "\n",
              "[120 rows x 5 columns]"
            ]
          },
          "metadata": {},
          "execution_count": 42
        }
      ]
    },
    {
      "cell_type": "code",
      "source": [
        "train_data.columns"
      ],
      "metadata": {
        "id": "2TW3284QrBLP",
        "colab": {
          "base_uri": "https://localhost:8080/"
        },
        "outputId": "b79febef-136a-4f1e-a059-8b29781dd17e"
      },
      "execution_count": 43,
      "outputs": [
        {
          "output_type": "execute_result",
          "data": {
            "text/plain": [
              "Index(['0', '1', '2', '3', '4'], dtype='object')"
            ]
          },
          "metadata": {},
          "execution_count": 43
        }
      ]
    },
    {
      "cell_type": "code",
      "source": [
        "train_data[\"0\"].shape"
      ],
      "metadata": {
        "id": "ZKzdZvoIrBN3",
        "colab": {
          "base_uri": "https://localhost:8080/"
        },
        "outputId": "a55f4ba1-c09d-42eb-e93b-1f755d1111c1"
      },
      "execution_count": 44,
      "outputs": [
        {
          "output_type": "execute_result",
          "data": {
            "text/plain": [
              "(300,)"
            ]
          },
          "metadata": {},
          "execution_count": 44
        }
      ]
    },
    {
      "cell_type": "code",
      "source": [
        "test_data[\"0\"].shape"
      ],
      "metadata": {
        "id": "bYZeiYHUrBQr",
        "colab": {
          "base_uri": "https://localhost:8080/"
        },
        "outputId": "5580d9b5-611b-4972-9c86-34e49a4549ed"
      },
      "execution_count": 45,
      "outputs": [
        {
          "output_type": "execute_result",
          "data": {
            "text/plain": [
              "(120,)"
            ]
          },
          "metadata": {},
          "execution_count": 45
        }
      ]
    },
    {
      "cell_type": "markdown",
      "source": [
        "## Normalize training data and convert to numpy array"
      ],
      "metadata": {
        "id": "uUYhyc6ZPyTe"
      }
    },
    {
      "cell_type": "code",
      "source": [
        "train_data_norm = (train_data-train_data.min())/(train_data.max()-train_data.min())"
      ],
      "metadata": {
        "id": "5pcFR_SorLgL"
      },
      "execution_count": 46,
      "outputs": []
    },
    {
      "cell_type": "code",
      "source": [
        "train_data_norm"
      ],
      "metadata": {
        "colab": {
          "base_uri": "https://localhost:8080/",
          "height": 419
        },
        "id": "-DURLAjkMIyM",
        "outputId": "770732c2-290e-42e7-ab20-cbd7a1ffec35"
      },
      "execution_count": 47,
      "outputs": [
        {
          "output_type": "execute_result",
          "data": {
            "text/html": [
              "\n",
              "  <div id=\"df-6b72d662-96bf-4b19-aa5f-6a50ecff61a5\">\n",
              "    <div class=\"colab-df-container\">\n",
              "      <div>\n",
              "<style scoped>\n",
              "    .dataframe tbody tr th:only-of-type {\n",
              "        vertical-align: middle;\n",
              "    }\n",
              "\n",
              "    .dataframe tbody tr th {\n",
              "        vertical-align: top;\n",
              "    }\n",
              "\n",
              "    .dataframe thead th {\n",
              "        text-align: right;\n",
              "    }\n",
              "</style>\n",
              "<table border=\"1\" class=\"dataframe\">\n",
              "  <thead>\n",
              "    <tr style=\"text-align: right;\">\n",
              "      <th></th>\n",
              "      <th>0</th>\n",
              "      <th>1</th>\n",
              "      <th>2</th>\n",
              "      <th>3</th>\n",
              "      <th>4</th>\n",
              "    </tr>\n",
              "  </thead>\n",
              "  <tbody>\n",
              "    <tr>\n",
              "      <th>0</th>\n",
              "      <td>0.554566</td>\n",
              "      <td>0.000999</td>\n",
              "      <td>0.000009</td>\n",
              "      <td>0.213483</td>\n",
              "      <td>0.0</td>\n",
              "    </tr>\n",
              "    <tr>\n",
              "      <th>1</th>\n",
              "      <td>0.807077</td>\n",
              "      <td>1.000000</td>\n",
              "      <td>0.000000</td>\n",
              "      <td>0.000000</td>\n",
              "      <td>1.0</td>\n",
              "    </tr>\n",
              "    <tr>\n",
              "      <th>2</th>\n",
              "      <td>0.583222</td>\n",
              "      <td>0.009999</td>\n",
              "      <td>0.009999</td>\n",
              "      <td>0.438202</td>\n",
              "      <td>1.0</td>\n",
              "    </tr>\n",
              "    <tr>\n",
              "      <th>3</th>\n",
              "      <td>0.778112</td>\n",
              "      <td>0.009999</td>\n",
              "      <td>0.099999</td>\n",
              "      <td>0.325843</td>\n",
              "      <td>1.0</td>\n",
              "    </tr>\n",
              "    <tr>\n",
              "      <th>4</th>\n",
              "      <td>0.189715</td>\n",
              "      <td>0.000099</td>\n",
              "      <td>0.000999</td>\n",
              "      <td>0.831461</td>\n",
              "      <td>0.0</td>\n",
              "    </tr>\n",
              "    <tr>\n",
              "      <th>...</th>\n",
              "      <td>...</td>\n",
              "      <td>...</td>\n",
              "      <td>...</td>\n",
              "      <td>...</td>\n",
              "      <td>...</td>\n",
              "    </tr>\n",
              "    <tr>\n",
              "      <th>295</th>\n",
              "      <td>0.287118</td>\n",
              "      <td>1.000000</td>\n",
              "      <td>0.009999</td>\n",
              "      <td>0.494382</td>\n",
              "      <td>1.0</td>\n",
              "    </tr>\n",
              "    <tr>\n",
              "      <th>296</th>\n",
              "      <td>0.696775</td>\n",
              "      <td>1.000000</td>\n",
              "      <td>0.099999</td>\n",
              "      <td>0.943820</td>\n",
              "      <td>1.0</td>\n",
              "    </tr>\n",
              "    <tr>\n",
              "      <th>297</th>\n",
              "      <td>0.835906</td>\n",
              "      <td>0.000000</td>\n",
              "      <td>0.000000</td>\n",
              "      <td>0.719101</td>\n",
              "      <td>0.0</td>\n",
              "    </tr>\n",
              "    <tr>\n",
              "      <th>298</th>\n",
              "      <td>0.620076</td>\n",
              "      <td>0.009999</td>\n",
              "      <td>0.000099</td>\n",
              "      <td>0.000000</td>\n",
              "      <td>1.0</td>\n",
              "    </tr>\n",
              "    <tr>\n",
              "      <th>299</th>\n",
              "      <td>0.913584</td>\n",
              "      <td>0.009999</td>\n",
              "      <td>0.099999</td>\n",
              "      <td>1.000000</td>\n",
              "      <td>1.0</td>\n",
              "    </tr>\n",
              "  </tbody>\n",
              "</table>\n",
              "<p>300 rows × 5 columns</p>\n",
              "</div>\n",
              "      <button class=\"colab-df-convert\" onclick=\"convertToInteractive('df-6b72d662-96bf-4b19-aa5f-6a50ecff61a5')\"\n",
              "              title=\"Convert this dataframe to an interactive table.\"\n",
              "              style=\"display:none;\">\n",
              "        \n",
              "  <svg xmlns=\"http://www.w3.org/2000/svg\" height=\"24px\"viewBox=\"0 0 24 24\"\n",
              "       width=\"24px\">\n",
              "    <path d=\"M0 0h24v24H0V0z\" fill=\"none\"/>\n",
              "    <path d=\"M18.56 5.44l.94 2.06.94-2.06 2.06-.94-2.06-.94-.94-2.06-.94 2.06-2.06.94zm-11 1L8.5 8.5l.94-2.06 2.06-.94-2.06-.94L8.5 2.5l-.94 2.06-2.06.94zm10 10l.94 2.06.94-2.06 2.06-.94-2.06-.94-.94-2.06-.94 2.06-2.06.94z\"/><path d=\"M17.41 7.96l-1.37-1.37c-.4-.4-.92-.59-1.43-.59-.52 0-1.04.2-1.43.59L10.3 9.45l-7.72 7.72c-.78.78-.78 2.05 0 2.83L4 21.41c.39.39.9.59 1.41.59.51 0 1.02-.2 1.41-.59l7.78-7.78 2.81-2.81c.8-.78.8-2.07 0-2.86zM5.41 20L4 18.59l7.72-7.72 1.47 1.35L5.41 20z\"/>\n",
              "  </svg>\n",
              "      </button>\n",
              "      \n",
              "  <style>\n",
              "    .colab-df-container {\n",
              "      display:flex;\n",
              "      flex-wrap:wrap;\n",
              "      gap: 12px;\n",
              "    }\n",
              "\n",
              "    .colab-df-convert {\n",
              "      background-color: #E8F0FE;\n",
              "      border: none;\n",
              "      border-radius: 50%;\n",
              "      cursor: pointer;\n",
              "      display: none;\n",
              "      fill: #1967D2;\n",
              "      height: 32px;\n",
              "      padding: 0 0 0 0;\n",
              "      width: 32px;\n",
              "    }\n",
              "\n",
              "    .colab-df-convert:hover {\n",
              "      background-color: #E2EBFA;\n",
              "      box-shadow: 0px 1px 2px rgba(60, 64, 67, 0.3), 0px 1px 3px 1px rgba(60, 64, 67, 0.15);\n",
              "      fill: #174EA6;\n",
              "    }\n",
              "\n",
              "    [theme=dark] .colab-df-convert {\n",
              "      background-color: #3B4455;\n",
              "      fill: #D2E3FC;\n",
              "    }\n",
              "\n",
              "    [theme=dark] .colab-df-convert:hover {\n",
              "      background-color: #434B5C;\n",
              "      box-shadow: 0px 1px 3px 1px rgba(0, 0, 0, 0.15);\n",
              "      filter: drop-shadow(0px 1px 2px rgba(0, 0, 0, 0.3));\n",
              "      fill: #FFFFFF;\n",
              "    }\n",
              "  </style>\n",
              "\n",
              "      <script>\n",
              "        const buttonEl =\n",
              "          document.querySelector('#df-6b72d662-96bf-4b19-aa5f-6a50ecff61a5 button.colab-df-convert');\n",
              "        buttonEl.style.display =\n",
              "          google.colab.kernel.accessAllowed ? 'block' : 'none';\n",
              "\n",
              "        async function convertToInteractive(key) {\n",
              "          const element = document.querySelector('#df-6b72d662-96bf-4b19-aa5f-6a50ecff61a5');\n",
              "          const dataTable =\n",
              "            await google.colab.kernel.invokeFunction('convertToInteractive',\n",
              "                                                     [key], {});\n",
              "          if (!dataTable) return;\n",
              "\n",
              "          const docLinkHtml = 'Like what you see? Visit the ' +\n",
              "            '<a target=\"_blank\" href=https://colab.research.google.com/notebooks/data_table.ipynb>data table notebook</a>'\n",
              "            + ' to learn more about interactive tables.';\n",
              "          element.innerHTML = '';\n",
              "          dataTable['output_type'] = 'display_data';\n",
              "          await google.colab.output.renderOutput(dataTable, element);\n",
              "          const docLink = document.createElement('div');\n",
              "          docLink.innerHTML = docLinkHtml;\n",
              "          element.appendChild(docLink);\n",
              "        }\n",
              "      </script>\n",
              "    </div>\n",
              "  </div>\n",
              "  "
            ],
            "text/plain": [
              "            0         1         2         3    4\n",
              "0    0.554566  0.000999  0.000009  0.213483  0.0\n",
              "1    0.807077  1.000000  0.000000  0.000000  1.0\n",
              "2    0.583222  0.009999  0.009999  0.438202  1.0\n",
              "3    0.778112  0.009999  0.099999  0.325843  1.0\n",
              "4    0.189715  0.000099  0.000999  0.831461  0.0\n",
              "..        ...       ...       ...       ...  ...\n",
              "295  0.287118  1.000000  0.009999  0.494382  1.0\n",
              "296  0.696775  1.000000  0.099999  0.943820  1.0\n",
              "297  0.835906  0.000000  0.000000  0.719101  0.0\n",
              "298  0.620076  0.009999  0.000099  0.000000  1.0\n",
              "299  0.913584  0.009999  0.099999  1.000000  1.0\n",
              "\n",
              "[300 rows x 5 columns]"
            ]
          },
          "metadata": {},
          "execution_count": 47
        }
      ]
    },
    {
      "cell_type": "code",
      "source": [
        "train_data_array = train_data_norm.to_numpy()\n",
        "train_data_array"
      ],
      "metadata": {
        "id": "-Xo8Egb1rLjl",
        "colab": {
          "base_uri": "https://localhost:8080/"
        },
        "outputId": "bea0459b-6b9d-450a-9669-95687b3f6345"
      },
      "execution_count": 48,
      "outputs": [
        {
          "output_type": "execute_result",
          "data": {
            "text/plain": [
              "array([[5.54566084e-01, 9.99000999e-04, 9.00000900e-06, 2.13483146e-01,\n",
              "        0.00000000e+00],\n",
              "       [8.07076552e-01, 1.00000000e+00, 0.00000000e+00, 0.00000000e+00,\n",
              "        1.00000000e+00],\n",
              "       [5.83221959e-01, 9.99901000e-03, 9.99901000e-03, 4.38202247e-01,\n",
              "        1.00000000e+00],\n",
              "       ...,\n",
              "       [8.35906050e-01, 0.00000000e+00, 0.00000000e+00, 7.19101124e-01,\n",
              "        0.00000000e+00],\n",
              "       [6.20076475e-01, 9.99901000e-03, 9.90000990e-05, 0.00000000e+00,\n",
              "        1.00000000e+00],\n",
              "       [9.13584185e-01, 9.99901000e-03, 9.99991000e-02, 1.00000000e+00,\n",
              "        1.00000000e+00]])"
            ]
          },
          "metadata": {},
          "execution_count": 48
        }
      ]
    },
    {
      "cell_type": "code",
      "source": [
        "test_data_norm = (test_data-test_data.min())/(test_data.max()-test_data.min())"
      ],
      "metadata": {
        "id": "WvI-PUp8tQLl"
      },
      "execution_count": 49,
      "outputs": []
    },
    {
      "cell_type": "code",
      "source": [
        "test_data_array = test_data_norm.to_numpy()\n",
        "test_data_array"
      ],
      "metadata": {
        "id": "NQtcBsk4tQOd",
        "colab": {
          "base_uri": "https://localhost:8080/"
        },
        "outputId": "263d86b5-52a2-4ee0-ec3d-74e4bf3cd4b5"
      },
      "execution_count": 50,
      "outputs": [
        {
          "output_type": "execute_result",
          "data": {
            "text/plain": [
              "array([[6.05707520e-01, 9.99901000e-03, 9.99901000e-03, 8.31460674e-01,\n",
              "        1.00000000e+00],\n",
              "       [6.92819816e-01, 0.00000000e+00, 9.90000990e-05, 1.00000000e+00,\n",
              "        0.00000000e+00],\n",
              "       [7.90680572e-01, 0.00000000e+00, 0.00000000e+00, 4.49438202e-02,\n",
              "        0.00000000e+00],\n",
              "       [9.18398158e-01, 9.99901000e-03, 1.00000000e+00, 2.69662921e-01,\n",
              "        1.00000000e+00],\n",
              "       [1.47610532e-01, 9.00000900e-06, 9.00000900e-06, 1.00000000e+00,\n",
              "        0.00000000e+00],\n",
              "       [2.81139701e-01, 9.99901000e-03, 9.99000999e-04, 4.49438202e-02,\n",
              "        1.00000000e+00],\n",
              "       [6.88077548e-01, 1.00000000e+00, 9.99901000e-03, 4.49438202e-02,\n",
              "        1.00000000e+00],\n",
              "       [5.30410949e-01, 0.00000000e+00, 9.00000900e-06, 8.31460674e-01,\n",
              "        0.00000000e+00],\n",
              "       [3.56950445e-02, 9.00000900e-06, 9.90000990e-05, 1.57303371e-01,\n",
              "        0.00000000e+00],\n",
              "       [2.99908023e-01, 9.99901000e-03, 9.99901000e-03, 8.87640449e-01,\n",
              "        1.00000000e+00],\n",
              "       [4.29938361e-02, 9.99901000e-03, 9.99991000e-02, 1.01123596e-01,\n",
              "        1.00000000e+00],\n",
              "       [8.16258094e-01, 1.00000000e+00, 9.99000999e-04, 4.94382022e-01,\n",
              "        1.00000000e+00],\n",
              "       [1.41368764e-01, 0.00000000e+00, 0.00000000e+00, 3.82022472e-01,\n",
              "        0.00000000e+00],\n",
              "       [1.11698347e-01, 0.00000000e+00, 9.90000990e-05, 4.38202247e-01,\n",
              "        0.00000000e+00],\n",
              "       [9.87905679e-01, 9.99000999e-04, 9.00000900e-06, 7.75280899e-01,\n",
              "        0.00000000e+00],\n",
              "       [9.81129254e-01, 9.99000999e-04, 1.00000000e+00, 9.43820225e-01,\n",
              "        1.00000000e+00],\n",
              "       [4.83219744e-01, 1.00000000e+00, 1.00000000e+00, 6.62921348e-01,\n",
              "        1.00000000e+00],\n",
              "       [7.63066844e-01, 1.00000000e+00, 9.99991000e-02, 7.19101124e-01,\n",
              "        1.00000000e+00],\n",
              "       [9.57264274e-01, 9.99000999e-04, 9.00000900e-06, 4.49438202e-02,\n",
              "        0.00000000e+00],\n",
              "       [7.63218433e-01, 9.90000990e-05, 0.00000000e+00, 3.25842697e-01,\n",
              "        0.00000000e+00],\n",
              "       [9.24791514e-01, 1.00000000e+00, 9.99901000e-03, 5.50561798e-01,\n",
              "        1.00000000e+00],\n",
              "       [5.47495406e-01, 9.99901000e-03, 9.99000999e-04, 8.31460674e-01,\n",
              "        1.00000000e+00],\n",
              "       [4.51777378e-01, 1.00000000e+00, 9.99991000e-02, 4.38202247e-01,\n",
              "        1.00000000e+00],\n",
              "       [1.83315819e-01, 9.99901000e-03, 1.00000000e+00, 4.94382022e-01,\n",
              "        1.00000000e+00],\n",
              "       [1.98282131e-01, 0.00000000e+00, 9.90000990e-05, 7.19101124e-01,\n",
              "        0.00000000e+00],\n",
              "       [7.95914479e-01, 0.00000000e+00, 9.00000900e-06, 1.01123596e-01,\n",
              "        0.00000000e+00],\n",
              "       [6.98301592e-01, 0.00000000e+00, 0.00000000e+00, 4.38202247e-01,\n",
              "        0.00000000e+00],\n",
              "       [8.07842872e-01, 1.00000000e+00, 1.00000000e+00, 6.06741573e-01,\n",
              "        1.00000000e+00],\n",
              "       [2.00246639e-01, 0.00000000e+00, 9.90000990e-05, 2.69662921e-01,\n",
              "        0.00000000e+00],\n",
              "       [4.01591272e-01, 9.99901000e-03, 9.99901000e-03, 3.82022472e-01,\n",
              "        1.00000000e+00],\n",
              "       [9.84488788e-01, 9.90000990e-05, 9.00000900e-06, 7.19101124e-01,\n",
              "        0.00000000e+00],\n",
              "       [6.50973138e-01, 9.99901000e-03, 9.99901000e-03, 8.31460674e-01,\n",
              "        1.00000000e+00],\n",
              "       [2.29642558e-01, 1.00000000e+00, 9.99000999e-04, 4.38202247e-01,\n",
              "        1.00000000e+00],\n",
              "       [7.38374273e-01, 9.99000999e-04, 9.00000900e-06, 1.00000000e+00,\n",
              "        0.00000000e+00],\n",
              "       [5.09460979e-01, 1.00000000e+00, 9.99901000e-03, 9.43820225e-01,\n",
              "        1.00000000e+00],\n",
              "       [4.10405950e-01, 1.00000000e+00, 9.99991000e-02, 5.50561798e-01,\n",
              "        1.00000000e+00],\n",
              "       [6.63897100e-01, 9.00000900e-06, 0.00000000e+00, 2.69662921e-01,\n",
              "        0.00000000e+00],\n",
              "       [2.08536903e-03, 9.99000999e-04, 9.99000999e-04, 4.49438202e-02,\n",
              "        1.00000000e+00],\n",
              "       [9.56082292e-01, 9.00000900e-06, 9.00000900e-06, 8.31460674e-01,\n",
              "        0.00000000e+00],\n",
              "       [6.73541420e-01, 0.00000000e+00, 0.00000000e+00, 1.01123596e-01,\n",
              "        0.00000000e+00],\n",
              "       [4.97403531e-01, 1.00000000e+00, 9.99000999e-04, 5.50561798e-01,\n",
              "        1.00000000e+00],\n",
              "       [4.45656471e-01, 0.00000000e+00, 0.00000000e+00, 4.94382022e-01,\n",
              "        0.00000000e+00],\n",
              "       [8.84026442e-01, 9.99000999e-04, 9.00000900e-06, 4.94382022e-01,\n",
              "        0.00000000e+00],\n",
              "       [8.68082997e-01, 1.00000000e+00, 9.99000999e-04, 1.01123596e-01,\n",
              "        1.00000000e+00],\n",
              "       [3.73387578e-01, 0.00000000e+00, 9.90000990e-05, 1.00000000e+00,\n",
              "        0.00000000e+00],\n",
              "       [4.60981271e-01, 9.99901000e-03, 9.99000999e-04, 6.62921348e-01,\n",
              "        1.00000000e+00],\n",
              "       [4.04657870e-01, 9.99000999e-04, 1.00000000e+00, 7.19101124e-01,\n",
              "        1.00000000e+00],\n",
              "       [7.74014008e-01, 1.00000000e+00, 1.00000000e+00, 4.49438202e-02,\n",
              "        1.00000000e+00],\n",
              "       [5.38645903e-01, 9.99901000e-03, 1.00000000e+00, 5.50561798e-01,\n",
              "        1.00000000e+00],\n",
              "       [7.14404820e-01, 0.00000000e+00, 0.00000000e+00, 3.25842697e-01,\n",
              "        0.00000000e+00],\n",
              "       [8.36786074e-01, 9.90000990e-05, 9.00000900e-06, 8.31460674e-01,\n",
              "        0.00000000e+00],\n",
              "       [9.80352874e-01, 0.00000000e+00, 9.90000990e-05, 7.19101124e-01,\n",
              "        0.00000000e+00],\n",
              "       [8.02049725e-01, 9.99000999e-04, 9.90000990e-05, 6.06741573e-01,\n",
              "        0.00000000e+00],\n",
              "       [8.65378982e-01, 0.00000000e+00, 0.00000000e+00, 4.94382022e-01,\n",
              "        0.00000000e+00],\n",
              "       [4.69845113e-01, 1.00000000e+00, 9.99991000e-02, 2.13483146e-01,\n",
              "        1.00000000e+00],\n",
              "       [0.00000000e+00, 1.00000000e+00, 9.99000999e-04, 8.31460674e-01,\n",
              "        1.00000000e+00],\n",
              "       [3.29121625e-01, 0.00000000e+00, 9.00000900e-06, 1.00000000e+00,\n",
              "        0.00000000e+00],\n",
              "       [2.05095429e-02, 1.00000000e+00, 9.99000999e-04, 8.87640449e-01,\n",
              "        1.00000000e+00],\n",
              "       [1.78471125e-01, 9.99901000e-03, 9.99000999e-04, 7.75280899e-01,\n",
              "        1.00000000e+00],\n",
              "       [1.47684278e-01, 0.00000000e+00, 9.90000990e-05, 6.62921348e-01,\n",
              "        0.00000000e+00],\n",
              "       [2.76137274e-03, 9.99901000e-03, 9.99000999e-04, 6.06741573e-01,\n",
              "        1.00000000e+00],\n",
              "       [8.37429301e-01, 0.00000000e+00, 9.00000900e-06, 3.25842697e-01,\n",
              "        0.00000000e+00],\n",
              "       [3.49125190e-01, 0.00000000e+00, 9.90000990e-05, 5.50561798e-01,\n",
              "        0.00000000e+00],\n",
              "       [8.20439075e-01, 1.00000000e+00, 1.00000000e+00, 1.57303371e-01,\n",
              "        1.00000000e+00],\n",
              "       [7.04047623e-01, 9.99901000e-03, 1.00000000e+00, 4.38202247e-01,\n",
              "        1.00000000e+00],\n",
              "       [5.11275947e-01, 9.99901000e-03, 9.99000999e-04, 3.25842697e-01,\n",
              "        1.00000000e+00],\n",
              "       [9.71161272e-01, 1.00000000e+00, 9.99991000e-02, 6.62921348e-01,\n",
              "        1.00000000e+00],\n",
              "       [4.99349602e-01, 9.99901000e-03, 9.99991000e-02, 6.62921348e-01,\n",
              "        1.00000000e+00],\n",
              "       [9.56078195e-01, 0.00000000e+00, 9.00000900e-06, 5.50561798e-01,\n",
              "        0.00000000e+00],\n",
              "       [8.51170613e-02, 1.00000000e+00, 9.99901000e-03, 7.75280899e-01,\n",
              "        1.00000000e+00],\n",
              "       [7.57171273e-01, 0.00000000e+00, 9.00000900e-06, 7.75280899e-01,\n",
              "        0.00000000e+00],\n",
              "       [4.46324281e-01, 1.00000000e+00, 1.00000000e+00, 4.49438202e-02,\n",
              "        1.00000000e+00],\n",
              "       [4.52533273e-01, 9.99000999e-04, 1.00000000e+00, 4.49438202e-02,\n",
              "        1.00000000e+00],\n",
              "       [9.26768313e-01, 9.90000990e-05, 9.90000990e-05, 4.94382022e-01,\n",
              "        0.00000000e+00],\n",
              "       [6.57130917e-01, 0.00000000e+00, 9.90000990e-05, 9.43820225e-01,\n",
              "        0.00000000e+00],\n",
              "       [6.96081022e-01, 0.00000000e+00, 9.90000990e-05, 8.87640449e-01,\n",
              "        0.00000000e+00],\n",
              "       [5.07232215e-01, 1.00000000e+00, 9.99901000e-03, 4.94382022e-01,\n",
              "        1.00000000e+00],\n",
              "       [6.81807101e-01, 9.00000900e-06, 0.00000000e+00, 5.50561798e-01,\n",
              "        0.00000000e+00],\n",
              "       [8.46030936e-01, 1.00000000e+00, 1.00000000e+00, 5.50561798e-01,\n",
              "        1.00000000e+00],\n",
              "       [3.07872575e-01, 0.00000000e+00, 9.00000900e-06, 3.25842697e-01,\n",
              "        0.00000000e+00],\n",
              "       [3.30727646e-01, 1.00000000e+00, 1.00000000e+00, 3.82022472e-01,\n",
              "        1.00000000e+00],\n",
              "       [4.71604771e-01, 9.99901000e-03, 1.00000000e+00, 7.75280899e-01,\n",
              "        1.00000000e+00],\n",
              "       [4.26898393e-01, 9.90000990e-05, 9.00000900e-06, 8.87640449e-01,\n",
              "        0.00000000e+00],\n",
              "       [3.22691396e-01, 1.00000000e+00, 9.99991000e-02, 2.69662921e-01,\n",
              "        1.00000000e+00],\n",
              "       [2.78288195e-02, 0.00000000e+00, 9.00000900e-06, 9.43820225e-01,\n",
              "        0.00000000e+00],\n",
              "       [7.40844759e-01, 0.00000000e+00, 9.90000990e-05, 0.00000000e+00,\n",
              "        0.00000000e+00],\n",
              "       [3.25874759e-02, 1.00000000e+00, 9.99000999e-04, 1.00000000e+00,\n",
              "        1.00000000e+00],\n",
              "       [3.88751298e-01, 0.00000000e+00, 9.00000900e-06, 7.19101124e-01,\n",
              "        0.00000000e+00],\n",
              "       [1.99031881e-01, 0.00000000e+00, 0.00000000e+00, 8.87640449e-01,\n",
              "        0.00000000e+00],\n",
              "       [2.01303663e-01, 1.00000000e+00, 1.00000000e+00, 1.57303371e-01,\n",
              "        1.00000000e+00],\n",
              "       [8.47569357e-01, 1.00000000e+00, 9.99991000e-02, 7.19101124e-01,\n",
              "        1.00000000e+00],\n",
              "       [6.68764327e-01, 0.00000000e+00, 9.00000900e-06, 3.82022472e-01,\n",
              "        0.00000000e+00],\n",
              "       [3.41777234e-01, 1.00000000e+00, 9.99901000e-03, 2.13483146e-01,\n",
              "        1.00000000e+00],\n",
              "       [9.48890022e-01, 1.00000000e+00, 9.99000999e-04, 2.13483146e-01,\n",
              "        1.00000000e+00],\n",
              "       [5.12673021e-01, 1.00000000e+00, 9.99000999e-04, 8.31460674e-01,\n",
              "        1.00000000e+00],\n",
              "       [3.13467018e-01, 0.00000000e+00, 9.00000900e-06, 7.19101124e-01,\n",
              "        0.00000000e+00],\n",
              "       [8.43894355e-01, 0.00000000e+00, 0.00000000e+00, 4.49438202e-02,\n",
              "        0.00000000e+00],\n",
              "       [6.70978751e-01, 9.99000999e-04, 0.00000000e+00, 2.69662921e-01,\n",
              "        0.00000000e+00],\n",
              "       [7.00114511e-02, 1.00000000e+00, 9.99000999e-04, 1.00000000e+00,\n",
              "        1.00000000e+00],\n",
              "       [4.63007233e-01, 9.99000999e-04, 1.00000000e+00, 4.49438202e-02,\n",
              "        1.00000000e+00],\n",
              "       [1.00937597e-01, 9.00000900e-06, 9.00000900e-06, 4.94382022e-01,\n",
              "        0.00000000e+00],\n",
              "       [6.51354158e-01, 9.90000990e-05, 9.90000990e-05, 0.00000000e+00,\n",
              "        0.00000000e+00],\n",
              "       [9.07633311e-01, 9.00000900e-06, 9.00000900e-06, 9.43820225e-01,\n",
              "        0.00000000e+00],\n",
              "       [1.00000000e+00, 1.00000000e+00, 9.99000999e-04, 4.94382022e-01,\n",
              "        1.00000000e+00],\n",
              "       [2.95038747e-01, 1.00000000e+00, 1.00000000e+00, 0.00000000e+00,\n",
              "        1.00000000e+00],\n",
              "       [4.89631537e-01, 9.99000999e-04, 1.00000000e+00, 1.00000000e+00,\n",
              "        1.00000000e+00],\n",
              "       [5.26148028e-01, 0.00000000e+00, 9.00000900e-06, 6.62921348e-01,\n",
              "        0.00000000e+00],\n",
              "       [8.98392545e-01, 1.00000000e+00, 1.00000000e+00, 5.50561798e-01,\n",
              "        1.00000000e+00],\n",
              "       [2.65997218e-02, 9.99901000e-03, 9.99991000e-02, 4.94382022e-01,\n",
              "        1.00000000e+00],\n",
              "       [8.13578661e-01, 1.00000000e+00, 1.00000000e+00, 8.87640449e-01,\n",
              "        1.00000000e+00],\n",
              "       [8.84427947e-01, 0.00000000e+00, 0.00000000e+00, 4.49438202e-02,\n",
              "        0.00000000e+00],\n",
              "       [6.99704812e-02, 1.00000000e+00, 9.99901000e-03, 5.50561798e-01,\n",
              "        1.00000000e+00],\n",
              "       [9.53482751e-01, 9.00000900e-06, 9.00000900e-06, 3.82022472e-01,\n",
              "        0.00000000e+00],\n",
              "       [3.41826398e-01, 0.00000000e+00, 9.99991000e-02, 7.75280899e-01,\n",
              "        1.00000000e+00],\n",
              "       [5.09737526e-01, 0.00000000e+00, 9.00000900e-06, 0.00000000e+00,\n",
              "        0.00000000e+00],\n",
              "       [6.39997296e-01, 9.99901000e-03, 9.99901000e-03, 3.82022472e-01,\n",
              "        1.00000000e+00],\n",
              "       [5.66067072e-01, 0.00000000e+00, 9.00000900e-06, 4.94382022e-01,\n",
              "        0.00000000e+00],\n",
              "       [7.51955802e-01, 0.00000000e+00, 0.00000000e+00, 2.13483146e-01,\n",
              "        0.00000000e+00],\n",
              "       [5.65151394e-01, 0.00000000e+00, 0.00000000e+00, 4.38202247e-01,\n",
              "        0.00000000e+00],\n",
              "       [3.72109316e-01, 9.90000990e-05, 9.90000990e-05, 1.00000000e+00,\n",
              "        0.00000000e+00]])"
            ]
          },
          "metadata": {},
          "execution_count": 50
        }
      ]
    },
    {
      "cell_type": "markdown",
      "source": [
        "# TwoLayerQNN"
      ],
      "metadata": {
        "id": "kA6zlCjTUvtB"
      }
    },
    {
      "cell_type": "code",
      "source": [
        "x0 = Parameter('x0')\n",
        "x1 = Parameter('x1')\n",
        "x2 = Parameter('x2')\n",
        "x3 = Parameter('x3')\n",
        "\n",
        "qc = QuantumCircuit(4)\n",
        "qc.rx(x0, 0)\n",
        "qc.rx(x1, 1)\n",
        "qc.rx(x2, 2)\n",
        "qc.rx(x3, 3)\n",
        "\n",
        "qc.ry(np.pi/4, 0)\n",
        "qc.ry(np.pi/4, 1)\n",
        "qc.ry(np.pi/4, 2)\n",
        "qc.ry(np.pi/4, 3)\n",
        "\n",
        "qc.rz(np.pi/4, 0)\n",
        "qc.rz(np.pi/4, 1)\n",
        "qc.rz(np.pi/4, 2)\n",
        "qc.rz(np.pi/4, 3)\n",
        "\n",
        "feature_map= [qc.bind_parameters({x0: x0_val}) for x0_val in train_data_array[:, 0]]\n",
        "feature_map= [qc.bind_parameters({x1: x1_val}) for x1_val in train_data_array[:, 1]]\n",
        "feature_map= [qc.bind_parameters({x2: x2_val}) for x2_val in train_data_array[:, 2]]\n",
        "feature_map= [qc.bind_parameters({x3: x3_val}) for x3_val in train_data_array[:, 3]]\n",
        "\n",
        "qc.draw()"
      ],
      "metadata": {
        "colab": {
          "base_uri": "https://localhost:8080/",
          "height": 152
        },
        "id": "-fYprDv7GfH8",
        "outputId": "444c0b73-d45e-44d9-a3a0-c1c2a1a3bb24"
      },
      "execution_count": 51,
      "outputs": [
        {
          "output_type": "execute_result",
          "data": {
            "text/html": [
              "<pre style=\"word-wrap: normal;white-space: pre;background: #fff0;line-height: 1.1;font-family: &quot;Courier New&quot;,Courier,monospace\">     ┌────────┐┌─────────┐┌─────────┐\n",
              "q_0: ┤ Rx(x0) ├┤ Ry(π/4) ├┤ Rz(π/4) ├\n",
              "     ├────────┤├─────────┤├─────────┤\n",
              "q_1: ┤ Rx(x1) ├┤ Ry(π/4) ├┤ Rz(π/4) ├\n",
              "     ├────────┤├─────────┤├─────────┤\n",
              "q_2: ┤ Rx(x2) ├┤ Ry(π/4) ├┤ Rz(π/4) ├\n",
              "     ├────────┤├─────────┤├─────────┤\n",
              "q_3: ┤ Rx(x3) ├┤ Ry(π/4) ├┤ Rz(π/4) ├\n",
              "     └────────┘└─────────┘└─────────┘</pre>"
            ],
            "text/plain": [
              "     ┌────────┐┌─────────┐┌─────────┐\n",
              "q_0: ┤ Rx(x0) ├┤ Ry(π/4) ├┤ Rz(π/4) ├\n",
              "     ├────────┤├─────────┤├─────────┤\n",
              "q_1: ┤ Rx(x1) ├┤ Ry(π/4) ├┤ Rz(π/4) ├\n",
              "     ├────────┤├─────────┤├─────────┤\n",
              "q_2: ┤ Rx(x2) ├┤ Ry(π/4) ├┤ Rz(π/4) ├\n",
              "     ├────────┤├─────────┤├─────────┤\n",
              "q_3: ┤ Rx(x3) ├┤ Ry(π/4) ├┤ Rz(π/4) ├\n",
              "     └────────┘└─────────┘└─────────┘"
            ]
          },
          "metadata": {},
          "execution_count": 51
        }
      ]
    },
    {
      "cell_type": "markdown",
      "source": [
        "## Define ansatz (TwoLocal - RX, RZ, CRX) and entangler map "
      ],
      "metadata": {
        "id": "FR0hEdvvf4bm"
      }
    },
    {
      "cell_type": "code",
      "source": [
        "dim = 4\n",
        "entangler_map = [(0, 1), (0, 2), (0, 3), (1, 0), (1, 2), (1, 3), (2, 0), (2, 1), (2, 3), (3, 0),  (3, 1), (3, 2)]\n",
        "entangler_map2 = []\n",
        "ansatz = TwoLocal(dim, ['rx', 'rz'], 'crx', [entangler_map, entangler_map2], reps=3, skip_final_rotation_layer= True, insert_barriers=True)"
      ],
      "metadata": {
        "id": "oBkvVIrQGfLI"
      },
      "execution_count": 52,
      "outputs": []
    },
    {
      "cell_type": "code",
      "source": [
        "quantum_instance = QuantumInstance(Aer.get_backend('aer_simulator'), shots=1024)\n",
        "algorithm_globals.random_seed = 42"
      ],
      "metadata": {
        "id": "_uvwauxQGugE"
      },
      "execution_count": 53,
      "outputs": []
    },
    {
      "cell_type": "code",
      "source": [
        "from qiskit_machine_learning.neural_networks import TwoLayerQNN\n",
        "num_inputs = 4\n",
        "opflow_qnn = TwoLayerQNN(num_inputs, feature_map = qc, ansatz= ansatz, quantum_instance=quantum_instance)\n",
        "print(opflow_qnn.circuit)"
      ],
      "metadata": {
        "colab": {
          "base_uri": "https://localhost:8080/"
        },
        "id": "tGC6ZAd4Gui_",
        "outputId": "65054436-5697-45bb-f3ec-70f17849d17d"
      },
      "execution_count": 55,
      "outputs": [
        {
          "output_type": "stream",
          "name": "stdout",
          "text": [
            "     ┌──────────────────────────────┐»\n",
            "q_0: ┤0                             ├»\n",
            "     │                              │»\n",
            "q_1: ┤1                             ├»\n",
            "     │  circuit-254321(x0,x1,x2,x3) │»\n",
            "q_2: ┤2                             ├»\n",
            "     │                              │»\n",
            "q_3: ┤3                             ├»\n",
            "     └──────────────────────────────┘»\n",
            "«     ┌──────────────────────────────────────────────────────────────────────────────────────────────────────────────────────────────────────────────────────────────────────────────────────────────────────────────────────────────────────────────────────────────────────────────────────────────────┐\n",
            "«q_0: ┤0                                                                                                                                                                                                                                                                                                 ├\n",
            "«     │                                                                                                                                                                                                                                                                                                  │\n",
            "«q_1: ┤1                                                                                                                                                                                                                                                                                                 ├\n",
            "«     │  TwoLocal(θ[0],θ[1],θ[2],θ[3],θ[4],θ[5],θ[6],θ[7],θ[8],θ[9],θ[10],θ[11],θ[12],θ[13],θ[14],θ[15],θ[16],θ[17],θ[18],θ[19],θ[20],θ[21],θ[22],θ[23],θ[24],θ[25],θ[26],θ[27],θ[28],θ[29],θ[30],θ[31],θ[32],θ[33],θ[34],θ[35],θ[36],θ[37],θ[38],θ[39],θ[40],θ[41],θ[42],θ[43],θ[44],θ[45],θ[46],θ[47]) │\n",
            "«q_2: ┤2                                                                                                                                                                                                                                                                                                 ├\n",
            "«     │                                                                                                                                                                                                                                                                                                  │\n",
            "«q_3: ┤3                                                                                                                                                                                                                                                                                                 ├\n",
            "«     └──────────────────────────────────────────────────────────────────────────────────────────────────────────────────────────────────────────────────────────────────────────────────────────────────────────────────────────────────────────────────────────────────────────────────────────────────┘\n"
          ]
        }
      ]
    },
    {
      "cell_type": "code",
      "source": [
        "weights = algorithm_globals.random.random(opflow_qnn.num_weights)\n",
        "# QNN maps inputs to [-1, +1]\n",
        "opflow_qnn.forward(train_data_array[0, 0:4], weights)"
      ],
      "metadata": {
        "colab": {
          "base_uri": "https://localhost:8080/"
        },
        "id": "RteoBU8BGul2",
        "outputId": "d039e8de-3733-470b-8b7a-bcb93dd59f49"
      },
      "execution_count": 56,
      "outputs": [
        {
          "output_type": "execute_result",
          "data": {
            "text/plain": [
              "array([[0.1796875]])"
            ]
          },
          "metadata": {},
          "execution_count": 56
        }
      ]
    },
    {
      "cell_type": "code",
      "source": [
        "opflow_qnn.backward(train_data_array[0, 0:4], weights)"
      ],
      "metadata": {
        "colab": {
          "base_uri": "https://localhost:8080/"
        },
        "id": "YaXVuzEdGuo0",
        "outputId": "5818db54-9348-4538-d59e-2c939e9aafb7"
      },
      "execution_count": 57,
      "outputs": [
        {
          "output_type": "execute_result",
          "data": {
            "text/plain": [
              "(None, array([[[-0.03125   , -0.14160156,  0.08203125,  0.00976563,\n",
              "           0.04492188,  0.02832031, -0.00585938, -0.04589844,\n",
              "          -0.24951172,  0.09960938,  0.07470703,  0.03076172,\n",
              "           0.02246094, -0.01416016,  0.06494141,  0.00390625,\n",
              "           0.00537109,  0.06005859,  0.01416016,  0.01464844,\n",
              "          -0.02539062, -0.12011719,  0.04492188,  0.04101563,\n",
              "           0.10058594,  0.09765625,  0.07128906, -0.01367188,\n",
              "           0.12011719, -0.19628906,  0.01855469,  0.00878906,\n",
              "           0.09277344,  0.07910156,  0.08300781,  0.06445312,\n",
              "          -0.14550781,  0.04638672,  0.10253906,  0.0625    ,\n",
              "           0.00976562,  0.00732422,  0.07373047, -0.12402344,\n",
              "           0.01708984,  0.07177734, -0.16064453,  0.01220703]]]))"
            ]
          },
          "metadata": {},
          "execution_count": 57
        }
      ]
    },
    {
      "cell_type": "markdown",
      "source": [
        "## Callback function\n"
      ],
      "metadata": {
        "id": "i0-zECH0TAUx"
      }
    },
    {
      "cell_type": "code",
      "source": [
        "def callback_graph(weights, obj_func_eval):\n",
        "    clear_output(wait=True)\n",
        "    objective_func_vals.append(obj_func_eval)\n",
        "    plt.title(\"Objective function value against iteration\")\n",
        "    plt.xlabel(\"Iteration\")\n",
        "    plt.ylabel(\"Objective function value\")\n",
        "    plt.plot(range(len(objective_func_vals)), objective_func_vals)\n",
        "    plt.show()"
      ],
      "metadata": {
        "id": "mpZdhlRpHFiT"
      },
      "execution_count": 58,
      "outputs": []
    },
    {
      "cell_type": "code",
      "source": [
        "from qiskit_machine_learning.algorithms.classifiers import NeuralNetworkClassifier\n",
        "from qiskit.algorithms.optimizers import COBYLA\n",
        "# construct neural network classifier\n",
        "opflow_classifier = NeuralNetworkClassifier(opflow_qnn, optimizer=COBYLA())"
      ],
      "metadata": {
        "id": "ZosTKAvgHFlP"
      },
      "execution_count": 59,
      "outputs": []
    },
    {
      "cell_type": "markdown",
      "source": [
        "## Test Classifier"
      ],
      "metadata": {
        "id": "2Ycer9R6gxLJ"
      }
    },
    {
      "cell_type": "code",
      "source": [
        "objective_func_vals = []\n",
        "plt.rcParams[\"figure.figsize\"] = (12, 6)\n",
        "\n",
        "training_labels = 2 * train_data_array[:, 4] - 1\n",
        "test_labels = 2 * test_data_array[:, 4] - 1\n",
        "\n",
        "# fit classifier to data\n",
        "opflow_classifier.fit(train_data_array[:, 0:4] , training_labels)\n",
        "\n",
        "# return to default figsize\n",
        "plt.rcParams[\"figure.figsize\"] = (6, 4)\n",
        "\n",
        "# score classifier\n",
        "qnn_score = opflow_classifier.score(test_data_array[:, 0:4], test_labels)\n",
        "\n",
        "with open('accuracy_vals_adhoc_zzfeaturemap.txt', 'a') as f:\n",
        "    f.write(str(qnn_score)+' ') \n",
        "    np.save('accuracy_vals_adhoc_zzfeaturemap.npy', qnn_score)\n",
        "print(f'QNN classification test score: {qnn_score}')\n",
        "\n",
        "# predict labels\n",
        "predicted = opflow_classifier.predict(test_data_array[:, 0:4])"
      ],
      "metadata": {
        "colab": {
          "base_uri": "https://localhost:8080/"
        },
        "id": "iN7TOR9SHFoM",
        "outputId": "f355ab34-18df-474d-8e68-4d58dc68b12f"
      },
      "execution_count": 60,
      "outputs": [
        {
          "output_type": "stream",
          "name": "stdout",
          "text": [
            "QNN classification test score: 0.8666666666666667\n"
          ]
        }
      ]
    },
    {
      "cell_type": "markdown",
      "source": [
        ""
      ],
      "metadata": {
        "id": "23tVAVl3-mkv"
      }
    },
    {
      "cell_type": "code",
      "source": [
        ""
      ],
      "metadata": {
        "id": "YNV9Pa513OxC"
      },
      "execution_count": null,
      "outputs": []
    },
    {
      "cell_type": "markdown",
      "source": [
        "# TwoLayerQNN with different ansatz"
      ],
      "metadata": {
        "id": "O5AsIW3HU2z8"
      }
    },
    {
      "cell_type": "markdown",
      "source": [
        "## Define ansatz (TwoLocal - RZ, RX, CRZ) and entangler map "
      ],
      "metadata": {
        "id": "zg2MvN3XgG-5"
      }
    },
    {
      "cell_type": "code",
      "source": [
        "dim = 4\n",
        "entangler_map = [(0, 1), (0, 2), (0, 3), (1, 0), (1, 2), (1, 3), (2, 0), (2, 1), (2, 3), (3, 0),  (3, 1), (3, 2)]\n",
        "entangler_map2 = []\n",
        "ansatz = TwoLocal(dim, ['rz', 'rx'], 'crz', [entangler_map, entangler_map2], reps=3, skip_final_rotation_layer= True, insert_barriers=True)"
      ],
      "metadata": {
        "id": "n5ItvBOTrfha"
      },
      "execution_count": 62,
      "outputs": []
    },
    {
      "cell_type": "code",
      "source": [
        "quantum_instance = QuantumInstance(Aer.get_backend('aer_simulator'), shots=1024)\n",
        "algorithm_globals.random_seed = 42"
      ],
      "metadata": {
        "id": "Lcpgqhy8roQl"
      },
      "execution_count": 63,
      "outputs": []
    },
    {
      "cell_type": "code",
      "source": [
        "from qiskit_machine_learning.neural_networks import TwoLayerQNN\n",
        "num_inputs=4\n",
        "opflow_qnn = TwoLayerQNN(num_inputs, feature_map = qc2, ansatz= ansatz, quantum_instance=quantum_instance)\n",
        "print(opflow_qnn.circuit)"
      ],
      "metadata": {
        "colab": {
          "base_uri": "https://localhost:8080/"
        },
        "id": "TM2ZmOwtrp5x",
        "outputId": "0b227a35-4c97-47c3-a13c-bac443c1f5ee"
      },
      "execution_count": 64,
      "outputs": [
        {
          "output_type": "stream",
          "name": "stdout",
          "text": [
            "     ┌───────────────────────────┐»\n",
            "q_0: ┤0                          ├»\n",
            "     │                           │»\n",
            "q_1: ┤1                          ├»\n",
            "     │  circuit-989(x0,x1,x2,x3) │»\n",
            "q_2: ┤2                          ├»\n",
            "     │                           │»\n",
            "q_3: ┤3                          ├»\n",
            "     └───────────────────────────┘»\n",
            "«     ┌──────────────────────────────────────────────────────────────────────────────────────────────────────────────────────────────────────────────────────────────────────────────────────────────────────────────────────────────────────────────────────────────────────────────────────────────────┐\n",
            "«q_0: ┤0                                                                                                                                                                                                                                                                                                 ├\n",
            "«     │                                                                                                                                                                                                                                                                                                  │\n",
            "«q_1: ┤1                                                                                                                                                                                                                                                                                                 ├\n",
            "«     │  TwoLocal(θ[0],θ[1],θ[2],θ[3],θ[4],θ[5],θ[6],θ[7],θ[8],θ[9],θ[10],θ[11],θ[12],θ[13],θ[14],θ[15],θ[16],θ[17],θ[18],θ[19],θ[20],θ[21],θ[22],θ[23],θ[24],θ[25],θ[26],θ[27],θ[28],θ[29],θ[30],θ[31],θ[32],θ[33],θ[34],θ[35],θ[36],θ[37],θ[38],θ[39],θ[40],θ[41],θ[42],θ[43],θ[44],θ[45],θ[46],θ[47]) │\n",
            "«q_2: ┤2                                                                                                                                                                                                                                                                                                 ├\n",
            "«     │                                                                                                                                                                                                                                                                                                  │\n",
            "«q_3: ┤3                                                                                                                                                                                                                                                                                                 ├\n",
            "«     └──────────────────────────────────────────────────────────────────────────────────────────────────────────────────────────────────────────────────────────────────────────────────────────────────────────────────────────────────────────────────────────────────────────────────────────────────┘\n"
          ]
        }
      ]
    },
    {
      "cell_type": "code",
      "source": [
        "weights2 = algorithm_globals.random.random(opflow_qnn.num_weights)\n",
        "# QNN maps inputs to [-1, +1]\n",
        "opflow_qnn.forward(train_data_array[0, 0:4], weights2)"
      ],
      "metadata": {
        "colab": {
          "base_uri": "https://localhost:8080/"
        },
        "id": "uWY1ieLErp9I",
        "outputId": "b945a12a-e268-4b7a-e502-abe5e95f90dc"
      },
      "execution_count": 65,
      "outputs": [
        {
          "output_type": "execute_result",
          "data": {
            "text/plain": [
              "array([[0.38671875]])"
            ]
          },
          "metadata": {},
          "execution_count": 65
        }
      ]
    },
    {
      "cell_type": "code",
      "source": [
        "opflow_qnn.backward(train_data_array[0, 0:4], weights2)"
      ],
      "metadata": {
        "colab": {
          "base_uri": "https://localhost:8080/"
        },
        "id": "IX14OV5-rp__",
        "outputId": "eaa4248e-2cf9-4a80-8045-4741dff0cedb"
      },
      "execution_count": 66,
      "outputs": [
        {
          "output_type": "execute_result",
          "data": {
            "text/plain": [
              "(None, array([[[ 0.18847656,  0.15917969, -0.37207031,  0.05078125,\n",
              "          -0.16503906, -0.36621094, -0.28320313, -0.07910156,\n",
              "          -0.06591797, -0.10205078, -0.08886719, -0.00976562,\n",
              "          -0.04345703, -0.03710938, -0.00292969,  0.01416016,\n",
              "           0.03808594, -0.01171875, -0.01269531, -0.01367188,\n",
              "           0.18554687,  0.08398438, -0.02441406,  0.01660156,\n",
              "          -0.12792969, -0.40527344, -0.42480469, -0.05566406,\n",
              "           0.09082031,  0.06933594,  0.10351562,  0.00488281,\n",
              "          -0.09960938, -0.32421875, -0.4609375 ,  0.03808594,\n",
              "          -0.00146484, -0.00097656,  0.01171875, -0.00683594,\n",
              "           0.02099609,  0.01025391, -0.01416016,  0.03271484,\n",
              "           0.02294922, -0.00146484, -0.00097656,  0.02246094]]]))"
            ]
          },
          "metadata": {},
          "execution_count": 66
        }
      ]
    },
    {
      "cell_type": "markdown",
      "source": [
        "## Callback Function"
      ],
      "metadata": {
        "id": "_QgqDCfGgXT7"
      }
    },
    {
      "cell_type": "code",
      "source": [
        "def callback_graph(weights, obj_func_eval):\n",
        "    clear_output(wait=True)\n",
        "    objective_func_vals.append(obj_func_eval)\n",
        "    plt.title(\"Objective function value against iteration\")\n",
        "    plt.xlabel(\"Iteration\")\n",
        "    plt.ylabel(\"Objective function value\")\n",
        "    plt.plot(range(len(objective_func_vals)), objective_func_vals)\n",
        "    plt.show()"
      ],
      "metadata": {
        "id": "1hzboM6jr4Rh"
      },
      "execution_count": 67,
      "outputs": []
    },
    {
      "cell_type": "code",
      "source": [
        "from qiskit_machine_learning.algorithms.classifiers import NeuralNetworkClassifier\n",
        "from qiskit.algorithms.optimizers import COBYLA\n",
        "# construct neural network classifier\n",
        "opflow_classifier = NeuralNetworkClassifier(opflow_qnn, optimizer=COBYLA())"
      ],
      "metadata": {
        "id": "2bdSNZIkr4ZE"
      },
      "execution_count": 68,
      "outputs": []
    },
    {
      "cell_type": "markdown",
      "source": [
        "## Test Classifier"
      ],
      "metadata": {
        "id": "BsDU4QJ5grna"
      }
    },
    {
      "cell_type": "code",
      "source": [
        "objective_func_vals = []\n",
        "plt.rcParams[\"figure.figsize\"] = (12, 6)\n",
        "\n",
        "training_labels = 2 * train_data_array[:, 4] - 1\n",
        "test_labels = 2 * test_data_array[:, 4] - 1\n",
        "\n",
        "# fit classifier to data\n",
        "opflow_classifier.fit(train_data_array[:, 0:4] , training_labels)\n",
        "\n",
        "# return to default figsize\n",
        "plt.rcParams[\"figure.figsize\"] = (6, 4)\n",
        "\n",
        "# score classifier\n",
        "qnn_score = opflow_classifier.score(test_data_array[:, 0:4], test_labels)\n",
        "\n",
        "with open('accuracy_vals_adhoc_zzfeaturemap.txt', 'a') as f:\n",
        "    f.write(str(qnn_score)+' ') \n",
        "    np.save('accuracy_vals_adhoc_zzfeaturemap.npy', qnn_score)\n",
        "print(f'QNN classification test score: {qnn_score}')\n",
        "\n",
        "# predict labels\n",
        "predicted = opflow_classifier.predict(test_data_array[:, 0:4])"
      ],
      "metadata": {
        "colab": {
          "base_uri": "https://localhost:8080/"
        },
        "id": "SWeTSrUIr_R-",
        "outputId": "67ef8a91-e307-4cd4-929b-8e9c7a60aced"
      },
      "execution_count": 69,
      "outputs": [
        {
          "output_type": "stream",
          "name": "stdout",
          "text": [
            "QNN classification test score: 0.7833333333333333\n"
          ]
        }
      ]
    },
    {
      "cell_type": "code",
      "source": [
        ""
      ],
      "metadata": {
        "id": "F83t3X-Lr_WM"
      },
      "execution_count": null,
      "outputs": []
    },
    {
      "cell_type": "markdown",
      "source": [
        "# References:\n",
        "\n",
        "1) Santanu Ganguly, *Quantum Machine Learning: An Applied Approach*, Apress, 2021.\n",
        "\n",
        "2) Santanu Pattanayak, *Quantum Machine Learning with Python*, Apress, 2021.\n",
        "\n",
        "3) PennyLane Demos: https://pennylane.ai/qml/demos/\n",
        "\n",
        "4) Tensorflow Quantum: https://www.tensorflow.org/quantum/tutorials/\n",
        "\n",
        "5) Qiskit Machine Learning: https://medium.com/qiskit/introducing-qiskit-machine-learning-5f06b6597526\n",
        "\n",
        "6) Qiskit Textbook (beta): https://qiskit.org/textbook-beta/\n",
        "\n",
        "\n"
      ],
      "metadata": {
        "id": "ZYfZbW3BqyOS"
      }
    },
    {
      "cell_type": "code",
      "source": [
        ""
      ],
      "metadata": {
        "id": "ZhH8rwsatOFf"
      },
      "execution_count": null,
      "outputs": []
    }
  ]
}